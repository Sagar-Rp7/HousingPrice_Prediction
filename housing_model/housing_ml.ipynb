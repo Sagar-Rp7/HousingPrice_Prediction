{
 "cells": [
  {
   "cell_type": "code",
   "execution_count": 2,
   "metadata": {},
   "outputs": [],
   "source": [
    "import pandas as pd\n",
    "import numpy as np\n",
    "%matplotlib inline\n",
    "import matplotlib.pyplot as plt\n",
    "from sklearn.preprocessing import OrdinalEncoder,RobustScaler\n",
    "from sklearn.model_selection import train_test_split,cross_val_score,KFold\n",
    "from sklearn.tree import DecisionTreeRegressor\n",
    "from sklearn.ensemble import RandomForestRegressor\n",
    "from sklearn.linear_model import ElasticNetCV, LassoCV, RidgeCV\n",
    "from sklearn.ensemble import GradientBoostingRegressor\n",
    "from mlxtend.regressor import StackingCVRegressor\n",
    "from xgboost import XGBRegressor\n",
    "from sklearn.metrics import mean_absolute_error,r2_score\n",
    "from sklearn.pipeline import make_pipeline"
   ]
  },
  {
   "cell_type": "markdown",
   "metadata": {},
   "source": [
    "# Data Anaylsis"
   ]
  },
  {
   "cell_type": "code",
   "execution_count": 3,
   "metadata": {
    "scrolled": false
   },
   "outputs": [
    {
     "name": "stdout",
     "output_type": "stream",
     "text": [
      "(1460, 81) (1459, 80)\n"
     ]
    }
   ],
   "source": [
    "house_data=pd.read_csv(\"house_train.csv\")\n",
    "test_data=pd.read_csv(\"house_test.csv\")\n",
    "print(house_data.shape,test_data.shape)"
   ]
  },
  {
   "cell_type": "code",
   "execution_count": 4,
   "metadata": {},
   "outputs": [
    {
     "name": "stdout",
     "output_type": "stream",
     "text": [
      "(2919, 79)\n"
     ]
    }
   ],
   "source": [
    "X_train=house_data.drop(['SalePrice','Id'], axis=1)\n",
    "X_test=test_data.drop(['Id'],axis=1)\n",
    "full_data=pd.concat([X_train,X_test]).reset_index(drop=True)\n",
    "print(full_data.shape)"
   ]
  },
  {
   "cell_type": "markdown",
   "metadata": {
    "scrolled": true
   },
   "source": [
    "#Missing values"
   ]
  },
  {
   "cell_type": "code",
   "execution_count": 5,
   "metadata": {
    "scrolled": true
   },
   "outputs": [
    {
     "name": "stdout",
     "output_type": "stream",
     "text": [
      "<class 'pandas.core.frame.DataFrame'>\n",
      "RangeIndex: 2919 entries, 0 to 2918\n",
      "Data columns (total 79 columns):\n",
      " #   Column         Non-Null Count  Dtype  \n",
      "---  ------         --------------  -----  \n",
      " 0   MSSubClass     2919 non-null   int64  \n",
      " 1   MSZoning       2915 non-null   object \n",
      " 2   LotFrontage    2433 non-null   float64\n",
      " 3   LotArea        2919 non-null   int64  \n",
      " 4   Street         2919 non-null   object \n",
      " 5   Alley          198 non-null    object \n",
      " 6   LotShape       2919 non-null   object \n",
      " 7   LandContour    2919 non-null   object \n",
      " 8   Utilities      2917 non-null   object \n",
      " 9   LotConfig      2919 non-null   object \n",
      " 10  LandSlope      2919 non-null   object \n",
      " 11  Neighborhood   2919 non-null   object \n",
      " 12  Condition1     2919 non-null   object \n",
      " 13  Condition2     2919 non-null   object \n",
      " 14  BldgType       2919 non-null   object \n",
      " 15  HouseStyle     2919 non-null   object \n",
      " 16  OverallQual    2919 non-null   int64  \n",
      " 17  OverallCond    2919 non-null   int64  \n",
      " 18  YearBuilt      2919 non-null   int64  \n",
      " 19  YearRemodAdd   2919 non-null   int64  \n",
      " 20  RoofStyle      2919 non-null   object \n",
      " 21  RoofMatl       2919 non-null   object \n",
      " 22  Exterior1st    2918 non-null   object \n",
      " 23  Exterior2nd    2918 non-null   object \n",
      " 24  MasVnrType     2895 non-null   object \n",
      " 25  MasVnrArea     2896 non-null   float64\n",
      " 26  ExterQual      2919 non-null   object \n",
      " 27  ExterCond      2919 non-null   object \n",
      " 28  Foundation     2919 non-null   object \n",
      " 29  BsmtQual       2838 non-null   object \n",
      " 30  BsmtCond       2837 non-null   object \n",
      " 31  BsmtExposure   2837 non-null   object \n",
      " 32  BsmtFinType1   2840 non-null   object \n",
      " 33  BsmtFinSF1     2918 non-null   float64\n",
      " 34  BsmtFinType2   2839 non-null   object \n",
      " 35  BsmtFinSF2     2918 non-null   float64\n",
      " 36  BsmtUnfSF      2918 non-null   float64\n",
      " 37  TotalBsmtSF    2918 non-null   float64\n",
      " 38  Heating        2919 non-null   object \n",
      " 39  HeatingQC      2919 non-null   object \n",
      " 40  CentralAir     2919 non-null   object \n",
      " 41  Electrical     2918 non-null   object \n",
      " 42  1stFlrSF       2919 non-null   int64  \n",
      " 43  2ndFlrSF       2919 non-null   int64  \n",
      " 44  LowQualFinSF   2919 non-null   int64  \n",
      " 45  GrLivArea      2919 non-null   int64  \n",
      " 46  BsmtFullBath   2917 non-null   float64\n",
      " 47  BsmtHalfBath   2917 non-null   float64\n",
      " 48  FullBath       2919 non-null   int64  \n",
      " 49  HalfBath       2919 non-null   int64  \n",
      " 50  BedroomAbvGr   2919 non-null   int64  \n",
      " 51  KitchenAbvGr   2919 non-null   int64  \n",
      " 52  KitchenQual    2918 non-null   object \n",
      " 53  TotRmsAbvGrd   2919 non-null   int64  \n",
      " 54  Functional     2917 non-null   object \n",
      " 55  Fireplaces     2919 non-null   int64  \n",
      " 56  FireplaceQu    1499 non-null   object \n",
      " 57  GarageType     2762 non-null   object \n",
      " 58  GarageYrBlt    2760 non-null   float64\n",
      " 59  GarageFinish   2760 non-null   object \n",
      " 60  GarageCars     2918 non-null   float64\n",
      " 61  GarageArea     2918 non-null   float64\n",
      " 62  GarageQual     2760 non-null   object \n",
      " 63  GarageCond     2760 non-null   object \n",
      " 64  PavedDrive     2919 non-null   object \n",
      " 65  WoodDeckSF     2919 non-null   int64  \n",
      " 66  OpenPorchSF    2919 non-null   int64  \n",
      " 67  EnclosedPorch  2919 non-null   int64  \n",
      " 68  3SsnPorch      2919 non-null   int64  \n",
      " 69  ScreenPorch    2919 non-null   int64  \n",
      " 70  PoolArea       2919 non-null   int64  \n",
      " 71  PoolQC         10 non-null     object \n",
      " 72  Fence          571 non-null    object \n",
      " 73  MiscFeature    105 non-null    object \n",
      " 74  MiscVal        2919 non-null   int64  \n",
      " 75  MoSold         2919 non-null   int64  \n",
      " 76  YrSold         2919 non-null   int64  \n",
      " 77  SaleType       2918 non-null   object \n",
      " 78  SaleCondition  2919 non-null   object \n",
      "dtypes: float64(11), int64(25), object(43)\n",
      "memory usage: 1.8+ MB\n",
      "13965\n"
     ]
    }
   ],
   "source": [
    "full_data.info()\n",
    "print(full_data.isnull().sum().sum())"
   ]
  },
  {
   "cell_type": "code",
   "execution_count": 6,
   "metadata": {},
   "outputs": [
    {
     "name": "stdout",
     "output_type": "stream",
     "text": [
      "SalePrice        1.000000\n",
      "OverallQual      0.790982\n",
      "GrLivArea        0.708624\n",
      "GarageCars       0.640409\n",
      "GarageArea       0.623431\n",
      "TotalBsmtSF      0.613581\n",
      "1stFlrSF         0.605852\n",
      "FullBath         0.560664\n",
      "TotRmsAbvGrd     0.533723\n",
      "YearBuilt        0.522897\n",
      "YearRemodAdd     0.507101\n",
      "GarageYrBlt      0.486362\n",
      "MasVnrArea       0.477493\n",
      "Fireplaces       0.466929\n",
      "BsmtFinSF1       0.386420\n",
      "LotFrontage      0.351799\n",
      "WoodDeckSF       0.324413\n",
      "2ndFlrSF         0.319334\n",
      "OpenPorchSF      0.315856\n",
      "HalfBath         0.284108\n",
      "LotArea          0.263843\n",
      "BsmtFullBath     0.227122\n",
      "BsmtUnfSF        0.214479\n",
      "BedroomAbvGr     0.168213\n",
      "ScreenPorch      0.111447\n",
      "PoolArea         0.092404\n",
      "MoSold           0.046432\n",
      "3SsnPorch        0.044584\n",
      "BsmtFinSF2      -0.011378\n",
      "BsmtHalfBath    -0.016844\n",
      "MiscVal         -0.021190\n",
      "Id              -0.021917\n",
      "LowQualFinSF    -0.025606\n",
      "YrSold          -0.028923\n",
      "OverallCond     -0.077856\n",
      "MSSubClass      -0.084284\n",
      "EnclosedPorch   -0.128578\n",
      "KitchenAbvGr    -0.135907\n",
      "Name: SalePrice, dtype: float64\n"
     ]
    }
   ],
   "source": [
    "corr_matrix=house_data.corr()\n",
    "print(corr_matrix['SalePrice'].sort_values(ascending=False))"
   ]
  },
  {
   "cell_type": "code",
   "execution_count": 7,
   "metadata": {},
   "outputs": [
    {
     "name": "stdout",
     "output_type": "stream",
     "text": [
      "Neighborhood\n",
      "Blmngtn    46.900000\n",
      "Blueste    27.300000\n",
      "BrDale     21.500000\n",
      "BrkSide    55.789474\n",
      "ClearCr    88.150000\n",
      "CollgCr    71.336364\n",
      "Crawfor    69.951807\n",
      "Edwards    66.910112\n",
      "Gilbert    74.207207\n",
      "IDOTRR     62.241379\n",
      "MeadowV    25.606061\n",
      "Mitchel    75.144444\n",
      "NAmes      75.210667\n",
      "NPkVill    28.142857\n",
      "NWAmes     81.517647\n",
      "NoRidge    91.629630\n",
      "NridgHt    84.184049\n",
      "OldTown    61.777293\n",
      "SWISU      59.068182\n",
      "Sawyer     74.551020\n",
      "SawyerW    70.669811\n",
      "Somerst    64.549383\n",
      "StoneBr    62.173913\n",
      "Timber     81.157895\n",
      "Veenker    72.000000\n",
      "Name: LotFrontage, dtype: float64\n"
     ]
    }
   ],
   "source": [
    "print(full_data.groupby('Neighborhood')['LotFrontage'].mean())\n",
    "full_data['LotFrontage']=full_data.groupby('Neighborhood')['LotFrontage'].transform(lambda x:x.fillna(x.mean()))"
   ]
  },
  {
   "cell_type": "code",
   "execution_count": 8,
   "metadata": {},
   "outputs": [
    {
     "name": "stdout",
     "output_type": "stream",
     "text": [
      "['MSSubClass', 'LotFrontage', 'LotArea', 'OverallQual', 'OverallCond', 'YearBuilt', 'YearRemodAdd', 'MasVnrArea', 'BsmtFinSF1', 'BsmtFinSF2', 'BsmtUnfSF', 'TotalBsmtSF', '1stFlrSF', '2ndFlrSF', 'LowQualFinSF', 'GrLivArea', 'BsmtFullBath', 'BsmtHalfBath', 'FullBath', 'HalfBath', 'BedroomAbvGr', 'KitchenAbvGr', 'TotRmsAbvGrd', 'Fireplaces', 'GarageYrBlt', 'GarageCars', 'GarageArea', 'WoodDeckSF', 'OpenPorchSF', 'EnclosedPorch', '3SsnPorch', 'ScreenPorch', 'PoolArea', 'MiscVal', 'MoSold', 'YrSold']\n",
      "192\n"
     ]
    }
   ],
   "source": [
    "#columns with numerical data\n",
    "num_dtypes = ['int64', 'float64']\n",
    "num = []\n",
    "for i in full_data.columns:\n",
    "    if full_data[i].dtype in num_dtypes:\n",
    "        num.append(i)\n",
    "print(num)\n",
    "print(full_data[num].isnull().sum().sum())"
   ]
  },
  {
   "cell_type": "code",
   "execution_count": 9,
   "metadata": {},
   "outputs": [
    {
     "name": "stdout",
     "output_type": "stream",
     "text": [
      "0\n"
     ]
    }
   ],
   "source": [
    "#for rest of the numerical data, it consist of negligible missing values and mostly doesnt not have that feature. \n",
    "#So replacing all missing values with zero.\n",
    "full_data[num]=full_data[num].fillna(0)\n",
    "print(full_data[num].isnull().sum().sum())"
   ]
  },
  {
   "cell_type": "code",
   "execution_count": 10,
   "metadata": {},
   "outputs": [],
   "source": [
    "#this are categorical values in numerical type\n",
    "full_data[['MSSubClass','MoSold', 'YrSold']]=full_data[['MSSubClass','MoSold', 'YrSold']].astype(str)"
   ]
  },
  {
   "cell_type": "code",
   "execution_count": 11,
   "metadata": {},
   "outputs": [
    {
     "name": "stdout",
     "output_type": "stream",
     "text": [
      "<pandas.core.groupby.generic.SeriesGroupBy object at 0x000001ED0B69E0D0>\n"
     ]
    }
   ],
   "source": [
    "print(full_data.groupby(['MSSubClass']).MSZoning)\n",
    "full_data['MSZoning'] = full_data.groupby('MSSubClass')['MSZoning'].transform(lambda x: x.fillna(x.mode()[0]))"
   ]
  },
  {
   "cell_type": "code",
   "execution_count": 12,
   "metadata": {},
   "outputs": [
    {
     "name": "stdout",
     "output_type": "stream",
     "text": [
      "['MSSubClass', 'MSZoning', 'Street', 'Alley', 'LotShape', 'LandContour', 'Utilities', 'LotConfig', 'LandSlope', 'Neighborhood', 'Condition1', 'Condition2', 'BldgType', 'HouseStyle', 'RoofStyle', 'RoofMatl', 'Exterior1st', 'Exterior2nd', 'MasVnrType', 'ExterQual', 'ExterCond', 'Foundation', 'BsmtQual', 'BsmtCond', 'BsmtExposure', 'BsmtFinType1', 'BsmtFinType2', 'Heating', 'HeatingQC', 'CentralAir', 'Electrical', 'KitchenQual', 'Functional', 'FireplaceQu', 'GarageType', 'GarageFinish', 'GarageQual', 'GarageCond', 'PavedDrive', 'PoolQC', 'Fence', 'MiscFeature', 'MoSold', 'YrSold', 'SaleType', 'SaleCondition']\n",
      "13283\n"
     ]
    }
   ],
   "source": [
    "obj=[]\n",
    "for i in full_data.columns:\n",
    "    if full_data[i].dtype==object:\n",
    "        obj.append(i)\n",
    "print(obj)\n",
    "print(full_data[obj].isnull().sum().sum())"
   ]
  },
  {
   "cell_type": "code",
   "execution_count": 13,
   "metadata": {},
   "outputs": [
    {
     "name": "stdout",
     "output_type": "stream",
     "text": [
      "[['MSSubClass', 20     1079\n",
      "60      575\n",
      "50      287\n",
      "120     182\n",
      "30      139\n",
      "70      128\n",
      "160     128\n",
      "80      118\n",
      "90      109\n",
      "190      61\n",
      "85       48\n",
      "75       23\n",
      "45       18\n",
      "180      17\n",
      "40        6\n",
      "150       1\n",
      "Name: MSSubClass, dtype: int64], ['MSZoning', RL         2267\n",
      "RM          462\n",
      "FV          139\n",
      "RH           26\n",
      "C (all)      25\n",
      "Name: MSZoning, dtype: int64], ['Street', Pave    2907\n",
      "Grvl      12\n",
      "Name: Street, dtype: int64], ['Alley', Grvl    120\n",
      "Pave     78\n",
      "Name: Alley, dtype: int64], ['LotShape', Reg    1859\n",
      "IR1     968\n",
      "IR2      76\n",
      "IR3      16\n",
      "Name: LotShape, dtype: int64], ['LandContour', Lvl    2622\n",
      "HLS     120\n",
      "Bnk     117\n",
      "Low      60\n",
      "Name: LandContour, dtype: int64], ['Utilities', AllPub    2916\n",
      "NoSeWa       1\n",
      "Name: Utilities, dtype: int64], ['LotConfig', Inside     2133\n",
      "Corner      511\n",
      "CulDSac     176\n",
      "FR2          85\n",
      "FR3          14\n",
      "Name: LotConfig, dtype: int64], ['LandSlope', Gtl    2778\n",
      "Mod     125\n",
      "Sev      16\n",
      "Name: LandSlope, dtype: int64], ['Neighborhood', NAmes      443\n",
      "CollgCr    267\n",
      "OldTown    239\n",
      "Edwards    194\n",
      "Somerst    182\n",
      "NridgHt    166\n",
      "Gilbert    165\n",
      "Sawyer     151\n",
      "NWAmes     131\n",
      "SawyerW    125\n",
      "Mitchel    114\n",
      "BrkSide    108\n",
      "Crawfor    103\n",
      "IDOTRR      93\n",
      "Timber      72\n",
      "NoRidge     71\n",
      "StoneBr     51\n",
      "SWISU       48\n",
      "ClearCr     44\n",
      "MeadowV     37\n",
      "BrDale      30\n",
      "Blmngtn     28\n",
      "Veenker     24\n",
      "NPkVill     23\n",
      "Blueste     10\n",
      "Name: Neighborhood, dtype: int64], ['Condition1', Norm      2511\n",
      "Feedr      164\n",
      "Artery      92\n",
      "RRAn        50\n",
      "PosN        39\n",
      "RRAe        28\n",
      "PosA        20\n",
      "RRNn         9\n",
      "RRNe         6\n",
      "Name: Condition1, dtype: int64], ['Condition2', Norm      2889\n",
      "Feedr       13\n",
      "Artery       5\n",
      "PosN         4\n",
      "PosA         4\n",
      "RRNn         2\n",
      "RRAn         1\n",
      "RRAe         1\n",
      "Name: Condition2, dtype: int64], ['BldgType', 1Fam      2425\n",
      "TwnhsE     227\n",
      "Duplex     109\n",
      "Twnhs       96\n",
      "2fmCon      62\n",
      "Name: BldgType, dtype: int64], ['HouseStyle', 1Story    1471\n",
      "2Story     872\n",
      "1.5Fin     314\n",
      "SLvl       128\n",
      "SFoyer      83\n",
      "2.5Unf      24\n",
      "1.5Unf      19\n",
      "2.5Fin       8\n",
      "Name: HouseStyle, dtype: int64], ['RoofStyle', Gable      2310\n",
      "Hip         551\n",
      "Gambrel      22\n",
      "Flat         20\n",
      "Mansard      11\n",
      "Shed          5\n",
      "Name: RoofStyle, dtype: int64], ['RoofMatl', CompShg    2876\n",
      "Tar&Grv      23\n",
      "WdShake       9\n",
      "WdShngl       7\n",
      "Metal         1\n",
      "Membran       1\n",
      "Roll          1\n",
      "ClyTile       1\n",
      "Name: RoofMatl, dtype: int64], ['Exterior1st', VinylSd    1025\n",
      "MetalSd     450\n",
      "HdBoard     442\n",
      "Wd Sdng     411\n",
      "Plywood     221\n",
      "CemntBd     126\n",
      "BrkFace      87\n",
      "WdShing      56\n",
      "AsbShng      44\n",
      "Stucco       43\n",
      "BrkComm       6\n",
      "AsphShn       2\n",
      "Stone         2\n",
      "CBlock        2\n",
      "ImStucc       1\n",
      "Name: Exterior1st, dtype: int64], ['Exterior2nd', VinylSd    1014\n",
      "MetalSd     447\n",
      "HdBoard     406\n",
      "Wd Sdng     391\n",
      "Plywood     270\n",
      "CmentBd     126\n",
      "Wd Shng      81\n",
      "BrkFace      47\n",
      "Stucco       47\n",
      "AsbShng      38\n",
      "Brk Cmn      22\n",
      "ImStucc      15\n",
      "Stone         6\n",
      "AsphShn       4\n",
      "CBlock        3\n",
      "Other         1\n",
      "Name: Exterior2nd, dtype: int64], ['MasVnrType', None       1742\n",
      "BrkFace     879\n",
      "Stone       249\n",
      "BrkCmn       25\n",
      "Name: MasVnrType, dtype: int64], ['ExterQual', TA    1798\n",
      "Gd     979\n",
      "Ex     107\n",
      "Fa      35\n",
      "Name: ExterQual, dtype: int64], ['ExterCond', TA    2538\n",
      "Gd     299\n",
      "Fa      67\n",
      "Ex      12\n",
      "Po       3\n",
      "Name: ExterCond, dtype: int64], ['Foundation', PConc     1308\n",
      "CBlock    1235\n",
      "BrkTil     311\n",
      "Slab        49\n",
      "Stone       11\n",
      "Wood         5\n",
      "Name: Foundation, dtype: int64], ['BsmtQual', TA    1283\n",
      "Gd    1209\n",
      "Ex     258\n",
      "Fa      88\n",
      "Name: BsmtQual, dtype: int64], ['BsmtCond', TA    2606\n",
      "Gd     122\n",
      "Fa     104\n",
      "Po       5\n",
      "Name: BsmtCond, dtype: int64], ['BsmtExposure', No    1904\n",
      "Av     418\n",
      "Gd     276\n",
      "Mn     239\n",
      "Name: BsmtExposure, dtype: int64], ['BsmtFinType1', Unf    851\n",
      "GLQ    849\n",
      "ALQ    429\n",
      "Rec    288\n",
      "BLQ    269\n",
      "LwQ    154\n",
      "Name: BsmtFinType1, dtype: int64], ['BsmtFinType2', Unf    2493\n",
      "Rec     105\n",
      "LwQ      87\n",
      "BLQ      68\n",
      "ALQ      52\n",
      "GLQ      34\n",
      "Name: BsmtFinType2, dtype: int64], ['Heating', GasA     2874\n",
      "GasW       27\n",
      "Grav        9\n",
      "Wall        6\n",
      "OthW        2\n",
      "Floor       1\n",
      "Name: Heating, dtype: int64], ['HeatingQC', Ex    1493\n",
      "TA     857\n",
      "Gd     474\n",
      "Fa      92\n",
      "Po       3\n",
      "Name: HeatingQC, dtype: int64], ['CentralAir', Y    2723\n",
      "N     196\n",
      "Name: CentralAir, dtype: int64], ['Electrical', SBrkr    2671\n",
      "FuseA     188\n",
      "FuseF      50\n",
      "FuseP       8\n",
      "Mix         1\n",
      "Name: Electrical, dtype: int64], ['KitchenQual', TA    1492\n",
      "Gd    1151\n",
      "Ex     205\n",
      "Fa      70\n",
      "Name: KitchenQual, dtype: int64], ['Functional', Typ     2717\n",
      "Min2      70\n",
      "Min1      65\n",
      "Mod       35\n",
      "Maj1      19\n",
      "Maj2       9\n",
      "Sev        2\n",
      "Name: Functional, dtype: int64], ['FireplaceQu', Gd    744\n",
      "TA    592\n",
      "Fa     74\n",
      "Po     46\n",
      "Ex     43\n",
      "Name: FireplaceQu, dtype: int64], ['GarageType', Attchd     1723\n",
      "Detchd      779\n",
      "BuiltIn     186\n",
      "Basment      36\n",
      "2Types       23\n",
      "CarPort      15\n",
      "Name: GarageType, dtype: int64], ['GarageFinish', Unf    1230\n",
      "RFn     811\n",
      "Fin     719\n",
      "Name: GarageFinish, dtype: int64], ['GarageQual', TA    2604\n",
      "Fa     124\n",
      "Gd      24\n",
      "Po       5\n",
      "Ex       3\n",
      "Name: GarageQual, dtype: int64], ['GarageCond', TA    2654\n",
      "Fa      74\n",
      "Gd      15\n",
      "Po      14\n",
      "Ex       3\n",
      "Name: GarageCond, dtype: int64], ['PavedDrive', Y    2641\n",
      "N     216\n",
      "P      62\n",
      "Name: PavedDrive, dtype: int64], ['PoolQC', Ex    4\n",
      "Gd    4\n",
      "Fa    2\n",
      "Name: PoolQC, dtype: int64], ['Fence', MnPrv    329\n",
      "GdPrv    118\n",
      "GdWo     112\n",
      "MnWw      12\n",
      "Name: Fence, dtype: int64], ['MiscFeature', Shed    95\n",
      "Gar2     5\n",
      "Othr     4\n",
      "TenC     1\n",
      "Name: MiscFeature, dtype: int64], ['MoSold', 6     503\n",
      "7     446\n",
      "5     394\n",
      "4     279\n",
      "8     233\n",
      "3     232\n",
      "10    173\n",
      "9     158\n",
      "11    142\n",
      "2     133\n",
      "1     122\n",
      "12    104\n",
      "Name: MoSold, dtype: int64], ['YrSold', 2007    692\n",
      "2009    647\n",
      "2008    622\n",
      "2006    619\n",
      "2010    339\n",
      "Name: YrSold, dtype: int64], ['SaleType', WD       2525\n",
      "New       239\n",
      "COD        87\n",
      "ConLD      26\n",
      "CWD        12\n",
      "ConLI       9\n",
      "ConLw       8\n",
      "Oth         7\n",
      "Con         5\n",
      "Name: SaleType, dtype: int64], ['SaleCondition', Normal     2402\n",
      "Partial     245\n",
      "Abnorml     190\n",
      "Family       46\n",
      "Alloca       24\n",
      "AdjLand      12\n",
      "Name: SaleCondition, dtype: int64]]\n"
     ]
    }
   ],
   "source": [
    "A=[]\n",
    "for i in obj:\n",
    "    A.append([i,full_data[i].value_counts()])\n",
    "print(A)"
   ]
  },
  {
   "cell_type": "code",
   "execution_count": 14,
   "metadata": {},
   "outputs": [],
   "source": [
    "full_data['Functional'] = full_data['Functional'].fillna('Typ') \n",
    "full_data['Electrical'] = full_data['Electrical'].fillna(\"SBrkr\") \n",
    "full_data['KitchenQual'] = full_data['KitchenQual'].fillna(\"TA\")\n",
    "full_data['Exterior1st'] = full_data['Exterior1st'].fillna(\"VinylSd\")\n",
    "full_data['SaleType'] = full_data['SaleType'].fillna('WD')"
   ]
  },
  {
   "cell_type": "code",
   "execution_count": 15,
   "metadata": {},
   "outputs": [],
   "source": [
    "#fill remaining object columns with None\n",
    "full_data[obj]=full_data[obj].fillna('None')"
   ]
  },
  {
   "cell_type": "markdown",
   "metadata": {},
   "source": [
    "# Feature Engineering"
   ]
  },
  {
   "cell_type": "code",
   "execution_count": 16,
   "metadata": {},
   "outputs": [
    {
     "name": "stdout",
     "output_type": "stream",
     "text": [
      "         len    min     max\n",
      "Street                     \n",
      "Grvl       6  55993  228950\n",
      "Pave    1454  34900  755000\n",
      "       len    min     max\n",
      "Alley                    \n",
      "Grvl    50  52500  256000\n",
      "Pave    41  40000  265979\n",
      "AllPub    2916\n",
      "None         2\n",
      "NoSeWa       1\n",
      "Name: Utilities, dtype: int64\n",
      "None    2909\n",
      "Ex         4\n",
      "Gd         4\n",
      "Fa         2\n",
      "Name: PoolQC, dtype: int64\n"
     ]
    }
   ],
   "source": [
    "print(house_data.groupby(['Street']).SalePrice.agg([len,min,max]))\n",
    "print(house_data.groupby(['Alley']).SalePrice.agg([len,min,max]))\n",
    "print(full_data['Utilities'].value_counts())\n",
    "print(full_data['PoolQC'].value_counts())"
   ]
  },
  {
   "cell_type": "code",
   "execution_count": 17,
   "metadata": {},
   "outputs": [],
   "source": [
    "#Dropping columns with very few data and not very usefull.\n",
    "full_data=full_data.drop(['Utilities','Alley','PoolQC'],axis=1)"
   ]
  },
  {
   "cell_type": "code",
   "execution_count": 18,
   "metadata": {},
   "outputs": [],
   "source": [
    "full_data['YrBltAndRemod']=full_data['YearBuilt']+full_data['YearRemodAdd']\n",
    "full_data['TotalSF']=full_data['TotalBsmtSF'] + full_data['1stFlrSF'] + full_data['2ndFlrSF']\n",
    "\n",
    "full_data['Total_footage'] = (full_data['BsmtFinSF1'] + full_data['BsmtFinSF2'] +\n",
    "                                 full_data['1stFlrSF'] + full_data['2ndFlrSF'])\n",
    "\n",
    "full_data['Total_Bath'] = (full_data['FullBath'] + (0.5 * full_data['HalfBath']) +\n",
    "                               full_data['BsmtFullBath'] + (0.5 * full_data['BsmtHalfBath']))\n",
    "\n",
    "full_data['Total_porch_sf'] = (full_data['OpenPorchSF'] + full_data['3SsnPorch'] +\n",
    "                              full_data['EnclosedPorch'] + full_data['ScreenPorch'] +\n",
    "                              full_data['WoodDeckSF'])"
   ]
  },
  {
   "cell_type": "code",
   "execution_count": 19,
   "metadata": {},
   "outputs": [],
   "source": [
    "full_data['haspool'] = full_data['PoolArea'].apply(lambda x: 1 if x > 0 else 0)\n",
    "full_data['has2ndfloor'] = full_data['2ndFlrSF'].apply(lambda x: 1 if x > 0 else 0)\n",
    "full_data['hasgarage'] = full_data['GarageArea'].apply(lambda x: 1 if x > 0 else 0)\n",
    "full_data['hasbsmt'] = full_data['TotalBsmtSF'].apply(lambda x: 1 if x > 0 else 0)\n",
    "full_data['hasfireplace'] = full_data['Fireplaces'].apply(lambda x: 1 if x > 0 else 0)"
   ]
  },
  {
   "cell_type": "code",
   "execution_count": 20,
   "metadata": {
    "scrolled": true
   },
   "outputs": [
    {
     "data": {
      "text/plain": [
       "(2919, 334)"
      ]
     },
     "execution_count": 20,
     "metadata": {},
     "output_type": "execute_result"
    }
   ],
   "source": [
    "# changing categorical values to numerical values - OneHotEncoding\n",
    "final_data=pd.get_dummies(full_data).reset_index(drop=True)\n",
    "final_data.shape"
   ]
  },
  {
   "cell_type": "code",
   "execution_count": 21,
   "metadata": {
    "scrolled": true
   },
   "outputs": [],
   "source": [
    "y_train=house_data['SalePrice']\n",
    "X_train=final_data.iloc[:len(y_train),:]\n",
    "X_test=final_data.iloc[len(y_train):,:]"
   ]
  },
  {
   "cell_type": "code",
   "execution_count": 22,
   "metadata": {},
   "outputs": [
    {
     "name": "stdout",
     "output_type": "stream",
     "text": [
      "      LotFrontage  LotArea  OverallQual  OverallCond  YearBuilt  YearRemodAdd  \\\n",
      "0            65.0     8450            7            5       2003          2003   \n",
      "1            80.0     9600            6            8       1976          1976   \n",
      "2            68.0    11250            7            5       2001          2002   \n",
      "3            60.0     9550            7            5       1915          1970   \n",
      "4            84.0    14260            8            5       2000          2000   \n",
      "...           ...      ...          ...          ...        ...           ...   \n",
      "1455         62.0     7917            6            5       1999          2000   \n",
      "1456         85.0    13175            6            6       1978          1988   \n",
      "1457         66.0     9042            7            9       1941          2006   \n",
      "1458         68.0     9717            5            6       1950          1996   \n",
      "1459         75.0     9937            5            6       1965          1965   \n",
      "\n",
      "      MasVnrArea  BsmtFinSF1  BsmtFinSF2  BsmtUnfSF  ...  SaleType_ConLw  \\\n",
      "0          196.0       706.0         0.0      150.0  ...               0   \n",
      "1            0.0       978.0         0.0      284.0  ...               0   \n",
      "2          162.0       486.0         0.0      434.0  ...               0   \n",
      "3            0.0       216.0         0.0      540.0  ...               0   \n",
      "4          350.0       655.0         0.0      490.0  ...               0   \n",
      "...          ...         ...         ...        ...  ...             ...   \n",
      "1455         0.0         0.0         0.0      953.0  ...               0   \n",
      "1456       119.0       790.0       163.0      589.0  ...               0   \n",
      "1457         0.0       275.0         0.0      877.0  ...               0   \n",
      "1458         0.0        49.0      1029.0        0.0  ...               0   \n",
      "1459         0.0       830.0       290.0      136.0  ...               0   \n",
      "\n",
      "      SaleType_New  SaleType_Oth  SaleType_WD  SaleCondition_Abnorml  \\\n",
      "0                0             0            1                      0   \n",
      "1                0             0            1                      0   \n",
      "2                0             0            1                      0   \n",
      "3                0             0            1                      1   \n",
      "4                0             0            1                      0   \n",
      "...            ...           ...          ...                    ...   \n",
      "1455             0             0            1                      0   \n",
      "1456             0             0            1                      0   \n",
      "1457             0             0            1                      0   \n",
      "1458             0             0            1                      0   \n",
      "1459             0             0            1                      0   \n",
      "\n",
      "      SaleCondition_AdjLand  SaleCondition_Alloca  SaleCondition_Family  \\\n",
      "0                         0                     0                     0   \n",
      "1                         0                     0                     0   \n",
      "2                         0                     0                     0   \n",
      "3                         0                     0                     0   \n",
      "4                         0                     0                     0   \n",
      "...                     ...                   ...                   ...   \n",
      "1455                      0                     0                     0   \n",
      "1456                      0                     0                     0   \n",
      "1457                      0                     0                     0   \n",
      "1458                      0                     0                     0   \n",
      "1459                      0                     0                     0   \n",
      "\n",
      "      SaleCondition_Normal  SaleCondition_Partial  \n",
      "0                        1                      0  \n",
      "1                        1                      0  \n",
      "2                        1                      0  \n",
      "3                        0                      0  \n",
      "4                        1                      0  \n",
      "...                    ...                    ...  \n",
      "1455                     1                      0  \n",
      "1456                     1                      0  \n",
      "1457                     1                      0  \n",
      "1458                     1                      0  \n",
      "1459                     1                      0  \n",
      "\n",
      "[1460 rows x 334 columns]\n"
     ]
    }
   ],
   "source": [
    "print(X_train)"
   ]
  },
  {
   "cell_type": "markdown",
   "metadata": {},
   "source": [
    "# Modelling"
   ]
  },
  {
   "cell_type": "code",
   "execution_count": 23,
   "metadata": {},
   "outputs": [],
   "source": [
    "kfolds = KFold(n_splits=10, shuffle=True, random_state=42)\n",
    "def cv_rmse(model):\n",
    "    rmse = np.sqrt(-cross_val_score(model, X_train, y_train, scoring=\"neg_mean_squared_error\", cv=kfolds))\n",
    "    print(rmse.mean())  "
   ]
  },
  {
   "cell_type": "code",
   "execution_count": 24,
   "metadata": {},
   "outputs": [
    {
     "name": "stdout",
     "output_type": "stream",
     "text": [
      "31123.3275014952\n"
     ]
    }
   ],
   "source": [
    "model0=make_pipeline(RobustScaler(), RidgeCV(cv=kfolds))\n",
    "cv_rmse(model0)"
   ]
  },
  {
   "cell_type": "code",
   "execution_count": 25,
   "metadata": {
    "scrolled": true
   },
   "outputs": [
    {
     "name": "stdout",
     "output_type": "stream",
     "text": [
      "33242.89916649995\n"
     ]
    }
   ],
   "source": [
    "model1=make_pipeline(RobustScaler(), LassoCV(cv=kfolds))\n",
    "cv_rmse(model1)"
   ]
  },
  {
   "cell_type": "code",
   "execution_count": 26,
   "metadata": {},
   "outputs": [
    {
     "name": "stdout",
     "output_type": "stream",
     "text": [
      "47722.71614247949\n"
     ]
    }
   ],
   "source": [
    "model2=ElasticNetCV(cv=kfolds)\n",
    "cv_rmse(model2)"
   ]
  },
  {
   "cell_type": "code",
   "execution_count": 27,
   "metadata": {},
   "outputs": [
    {
     "name": "stdout",
     "output_type": "stream",
     "text": [
      "26319.38280536714\n"
     ]
    }
   ],
   "source": [
    "model3=make_pipeline(RobustScaler(),XGBRegressor(learning_rate=0.01,n_estimators=3000))\n",
    "cv_rmse(model3)"
   ]
  },
  {
   "cell_type": "code",
   "execution_count": 28,
   "metadata": {},
   "outputs": [
    {
     "name": "stdout",
     "output_type": "stream",
     "text": [
      "24795.2661996215\n"
     ]
    }
   ],
   "source": [
    "model4 = GradientBoostingRegressor(n_estimators=3000, learning_rate=0.05, random_state =42)\n",
    "cv_rmse(model4)"
   ]
  },
  {
   "cell_type": "code",
   "execution_count": 29,
   "metadata": {},
   "outputs": [
    {
     "name": "stdout",
     "output_type": "stream",
     "text": [
      "27799.543341443776\n"
     ]
    }
   ],
   "source": [
    "model5=make_pipeline(RobustScaler(),RandomForestRegressor(n_estimators = 100))\n",
    "cv_rmse(model5)"
   ]
  },
  {
   "cell_type": "code",
   "execution_count": 30,
   "metadata": {},
   "outputs": [],
   "source": [
    "stack= StackingCVRegressor(regressors=(model0,model1,model3,model4,model5),\n",
    "                                meta_regressor=model3,use_features_in_secondary=True)"
   ]
  },
  {
   "cell_type": "code",
   "execution_count": 31,
   "metadata": {},
   "outputs": [
    {
     "data": {
      "text/plain": [
       "StackingCVRegressor(meta_regressor=Pipeline(steps=[('robustscaler',\n",
       "                                                    RobustScaler()),\n",
       "                                                   ('xgbregressor',\n",
       "                                                    XGBRegressor(base_score=None,\n",
       "                                                                 booster=None,\n",
       "                                                                 colsample_bylevel=None,\n",
       "                                                                 colsample_bynode=None,\n",
       "                                                                 colsample_bytree=None,\n",
       "                                                                 enable_categorical=False,\n",
       "                                                                 gamma=None,\n",
       "                                                                 gpu_id=None,\n",
       "                                                                 importance_type=None,\n",
       "                                                                 interaction_constraints=None,\n",
       "                                                                 learning_rate=0.01,\n",
       "                                                                 max_delta_step=None,\n",
       "                                                                 max_d...\n",
       "                                                              random_state=None,\n",
       "                                                              reg_alpha=None,\n",
       "                                                              reg_lambda=None,\n",
       "                                                              scale_pos_weight=None,\n",
       "                                                              subsample=None,\n",
       "                                                              tree_method=None,\n",
       "                                                              validate_parameters=None,\n",
       "                                                              verbosity=None))]),\n",
       "                                GradientBoostingRegressor(learning_rate=0.05,\n",
       "                                                          n_estimators=3000,\n",
       "                                                          random_state=42),\n",
       "                                Pipeline(steps=[('robustscaler',\n",
       "                                                 RobustScaler()),\n",
       "                                                ('randomforestregressor',\n",
       "                                                 RandomForestRegressor())])),\n",
       "                    use_features_in_secondary=True)"
      ]
     },
     "execution_count": 31,
     "metadata": {},
     "output_type": "execute_result"
    }
   ],
   "source": [
    "stack.fit(np.array(X_train),np.array(y_train))"
   ]
  },
  {
   "cell_type": "code",
   "execution_count": 32,
   "metadata": {},
   "outputs": [],
   "source": [
    "ridge=model0.fit(X_train,y_train)\n",
    "lasso=model1.fit(X_train,y_train)\n",
    "xgb=model3.fit(X_train,y_train)\n",
    "gradient=model4.fit(X_train,y_train)\n",
    "forest=model5.fit(X_train,y_train)"
   ]
  },
  {
   "cell_type": "code",
   "execution_count": 33,
   "metadata": {},
   "outputs": [],
   "source": [
    "def blend_models(X):\n",
    "    return ((0.05 * lasso.predict(X)) + \\\n",
    "            (0.1 * ridge.predict(X)) + \\\n",
    "            (0.15 * forest.predict(X)) + \\\n",
    "            (0.2 * gradient.predict(X)) + \\\n",
    "            (0.15 * xgb.predict(X)) + \\\n",
    "            ((0.35 * stack.predict(np.array(X)))))"
   ]
  },
  {
   "cell_type": "code",
   "execution_count": 34,
   "metadata": {},
   "outputs": [],
   "source": [
    "y_pred=blend_models(X_test)"
   ]
  },
  {
   "cell_type": "code",
   "execution_count": 35,
   "metadata": {},
   "outputs": [],
   "source": [
    "y_sub=pd.DataFrame(y_pred)\n",
    "y_sub.to_csv('sub1.csv')"
   ]
  },
  {
   "cell_type": "code",
   "execution_count": null,
   "metadata": {},
   "outputs": [],
   "source": []
  }
 ],
 "metadata": {
  "kernelspec": {
   "display_name": "Python 3 (ipykernel)",
   "language": "python",
   "name": "python3"
  },
  "language_info": {
   "codemirror_mode": {
    "name": "ipython",
    "version": 3
   },
   "file_extension": ".py",
   "mimetype": "text/x-python",
   "name": "python",
   "nbconvert_exporter": "python",
   "pygments_lexer": "ipython3",
   "version": "3.9.7"
  }
 },
 "nbformat": 4,
 "nbformat_minor": 4
}
