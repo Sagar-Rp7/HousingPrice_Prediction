{
 "cells": [
  {
   "cell_type": "code",
   "execution_count": null,
   "metadata": {},
   "outputs": [],
   "source": [
    "import pandas as pd\n",
    "import numpy as np\n",
    "%matplotlib inline\n",
    "import matplotlib.pyplot as plt\n",
    "from scipy.stats import skew  \n",
    "from scipy.special import boxcox1p\n",
    "from scipy.stats import boxcox_normmax\n",
    "from sklearn.preprocessing import OrdinalEncoder,RobustScaler\n",
    "from sklearn.model_selection import train_test_split,cross_val_score,KFold\n",
    "from sklearn.tree import DecisionTreeRegressor\n",
    "from sklearn.ensemble import RandomForestRegressor\n",
    "from sklearn.linear_model import ElasticNetCV, LassoCV, RidgeCV\n",
    "from sklearn.ensemble import GradientBoostingRegressor\n",
    "from mlxtend.regressor import StackingCVRegressor\n",
    "from xgboost import XGBRegressor\n",
    "from sklearn.metrics import mean_absolute_error,r2_score\n",
    "from sklearn.pipeline import make_pipeline"
   ]
  },
  {
   "cell_type": "markdown",
   "metadata": {},
   "source": [
    "# Data Anaylsis"
   ]
  },
  {
   "cell_type": "code",
   "execution_count": null,
   "metadata": {
    "scrolled": false
   },
   "outputs": [],
   "source": [
    "house_data=pd.read_csv(\"house_train.csv\")\n",
    "test_data=pd.read_csv(\"house_test.csv\")\n",
    "print(house_data.shape,test_data.shape)"
   ]
  },
  {
   "cell_type": "code",
   "execution_count": null,
   "metadata": {},
   "outputs": [],
   "source": [
    "X_train=house_data.drop(['SalePrice','Id'], axis=1)\n",
    "X_test=test_data.drop(['Id'],axis=1)\n",
    "full_data=pd.concat([X_train,X_test]).reset_index(drop=True)\n",
    "print(full_data.shape)"
   ]
  },
  {
   "cell_type": "markdown",
   "metadata": {
    "scrolled": true
   },
  },
  {
   "cell_type": "code",
   "execution_count": null,
   "metadata": {
    "scrolled": true
   },
   "outputs": [],
   "source": [
    "full_data.info()\n",
    "print(full_data.isnull().sum().sum())"
   ]
  },
  {
   "cell_type": "code",
   "execution_count": null,
   "metadata": {},
   "outputs": [],
   "source": [
    "corr_matrix=house_data.corr()\n",
    "print(corr_matrix['SalePrice'].sort_values(ascending=False))"
   ]
  },
  {
   "cell_type": "code",
   "execution_count": null,
   "metadata": {},
   "outputs": [],
   "source": [
    "print(full_data.groupby('Neighborhood')['LotFrontage'].mean())\n",
    "full_data['LotFrontage']=full_data.groupby('Neighborhood')['LotFrontage'].transform(lambda x:x.fillna(x.mean()))"
   ]
  },
  {
   "cell_type": "code",
   "execution_count": null,
   "metadata": {},
   "outputs": [],
   "source": [
    "#columns with numerical data\n",
    "num_dtypes = ['int64', 'float64']\n",
    "num = []\n",
    "for i in full_data.columns:\n",
    "    if full_data[i].dtype in num_dtypes:\n",
    "        num.append(i)\n",
    "print(num)\n",
    "print(full_data[num].isnull().sum().sum())"
   ]
  },
  {
   "cell_type": "code",
   "execution_count": null,
   "metadata": {},
   "outputs": [],
   "source": [
    "#for rest of the numerical data, it consist of negligible missing values and mostly doesnt not have that feature. \n",
    "#So replacing all missing values with zero.\n",
    "full_data[num]=full_data[num].fillna(0)\n",
    "print(full_data[num].isnull().sum().sum())"
   ]
  },
  {
   "cell_type": "code",
   "execution_count": null,
   "metadata": {},
   "outputs": [],
   "source": [
    "#this are categorical values in numerical type\n",
    "full_data[['MSSubClass','MoSold', 'YrSold']]=full_data[['MSSubClass','MoSold', 'YrSold']].astype(str)"
   ]
  },
  {
   "cell_type": "code",
   "execution_count": null,
   "metadata": {},
   "outputs": [],
   "source": [
    "print(full_data.groupby(['MSSubClass']).MSZoning)\n",
    "full_data['MSZoning'] = full_data.groupby('MSSubClass')['MSZoning'].transform(lambda x: x.fillna(x.mode()[0]))"
   ]
  },
  {
   "cell_type": "code",
   "execution_count": null,
   "metadata": {},
   "outputs": [],
   "source": [
    "obj=[]\n",
    "for i in full_data.columns:\n",
    "    if full_data[i].dtype==object:\n",
    "        obj.append(i)\n",
    "print(obj)\n",
    "print(full_data[obj].isnull().sum().sum())"
   ]
  },
  {
   "cell_type": "code",
   "execution_count": null,
   "metadata": {},
   "outputs": [],
   "source": [
    "A=[]\n",
    "for i in obj:\n",
    "    A.append([i,full_data[i].value_counts()])\n",
    "print(A)"
   ]
  },
  {
   "cell_type": "code",
   "execution_count": null,
   "metadata": {},
   "outputs": [],
   "source": [
    "full_data['Functional'] = full_data['Functional'].fillna('Typ') \n",
    "full_data['Electrical'] = full_data['Electrical'].fillna(\"SBrkr\") \n",
    "full_data['KitchenQual'] = full_data['KitchenQual'].fillna(\"TA\")\n",
    "full_data['Exterior1st'] = full_data['Exterior1st'].fillna(\"VinylSd\")\n",
    "full_data['SaleType'] = full_data['SaleType'].fillna('WD')"
   ]
  },
  {
   "cell_type": "code",
   "execution_count": null,
   "metadata": {},
   "outputs": [],
   "source": [
    "#fill remaining object columns with None\n",
    "full_data[obj]=full_data[obj].fillna('None')"
   ]
  },
  {
   "cell_type": "markdown",
   "metadata": {},
   "source": [
    "# Feature Engineering"
   ]
  },
  {
   "cell_type": "code",
   "execution_count": null,
   "metadata": {},
   "outputs": [],
   "source": [
    "print(house_data.groupby(['Street']).SalePrice.agg([len,min,max]))\n",
    "print(house_data.groupby(['Alley']).SalePrice.agg([len,min,max]))\n",
    "print(full_data['Utilities'].value_counts())\n",
    "print(full_data['PoolQC'].value_counts())"
   ]
  },
  {
   "cell_type": "code",
   "execution_count": null,
   "metadata": {},
   "outputs": [],
   "source": [
    "#Dropping columns with very few data and not very usefull.\n",
    "full_data=full_data.drop(['Utilities','Alley','PoolQC'],axis=1)"
   ]
  },
  {
   "cell_type": "code",
   "execution_count": null,
   "metadata": {},
   "outputs": [],
   "source": [
    "full_data['YrBltAndRemod']=full_data['YearBuilt']+full_data['YearRemodAdd']\n",
    "full_data['TotalSF']=full_data['TotalBsmtSF'] + full_data['1stFlrSF'] + full_data['2ndFlrSF']\n",
    "\n",
    "full_data['Total_footage'] = (full_data['BsmtFinSF1'] + full_data['BsmtFinSF2'] +\n",
    "                                 full_data['1stFlrSF'] + full_data['2ndFlrSF'])\n",
    "\n",
    "full_data['Total_Bath'] = (full_data['FullBath'] + (0.5 * full_data['HalfBath']) +\n",
    "                               full_data['BsmtFullBath'] + (0.5 * full_data['BsmtHalfBath']))\n",
    "\n",
    "full_data['Total_porch_sf'] = (full_data['OpenPorchSF'] + full_data['3SsnPorch'] +\n",
    "                              full_data['EnclosedPorch'] + full_data['ScreenPorch'] +\n",
    "                              full_data['WoodDeckSF'])"
   ]
  },
  {
   "cell_type": "code",
   "execution_count": null,
   "metadata": {},
   "outputs": [],
   "source": [
    "full_data['haspool'] = full_data['PoolArea'].apply(lambda x: 1 if x > 0 else 0)\n",
    "full_data['has2ndfloor'] = full_data['2ndFlrSF'].apply(lambda x: 1 if x > 0 else 0)\n",
    "full_data['hasgarage'] = full_data['GarageArea'].apply(lambda x: 1 if x > 0 else 0)\n",
    "full_data['hasbsmt'] = full_data['TotalBsmtSF'].apply(lambda x: 1 if x > 0 else 0)\n",
    "full_data['hasfireplace'] = full_data['Fireplaces'].apply(lambda x: 1 if x > 0 else 0)"
   ]
  },
  {
   "cell_type": "code",
   "execution_count": null,
   "metadata": {
    "scrolled": true
   },
   "outputs": [],
   "source": [
    "# changing categorical values to numerical values - OneHotEncoding\n",
    "final_data=pd.get_dummies(full_data).reset_index(drop=True)\n",
    "final_data.shape"
   ]
  },
  {
   "cell_type": "code",
   "execution_count": null,
   "metadata": {
    "scrolled": true
   },
   "outputs": [],
   "source": [
    "y_train=house_data['SalePrice']\n",
    "X_train=final_data.iloc[:len(y_train),:]\n",
    "X_test=final_data.iloc[len(y_train):,:]"
   ]
  },
  {
   "cell_type": "code",
   "execution_count": null,
   "metadata": {},
   "outputs": [],
   "source": [
    "print(X_train)"
   ]
  },
  {
   "cell_type": "markdown",
   "metadata": {},
   "source": [
    "# Modelling"
   ]
  },
  {
   "cell_type": "code",
   "execution_count": null,
   "metadata": {},
   "outputs": [],
   "source": [
    "kfolds = KFold(n_splits=10, shuffle=True, random_state=42)\n",
    "def cv_rmse(model):\n",
    "    rmse = np.sqrt(-cross_val_score(model, X_train, y_train, scoring=\"neg_mean_squared_error\", cv=kfolds))\n",
    "    print(rmse.mean())  "
   ]
  },
  {
   "cell_type": "code",
   "execution_count": null,
   "metadata": {},
   "outputs": [],
   "source": [
    "model0=make_pipeline(RobustScaler(), RidgeCV(cv=kfolds))\n",
    "cv_rmse(model0)"
   ]
  },
  {
   "cell_type": "code",
   "execution_count": null,
   "metadata": {
    "scrolled": true
   },
   "outputs": [],
   "source": [
    "model1=make_pipeline(RobustScaler(), LassoCV(cv=kfolds))\n",
    "cv_rmse(model1)"
   ]
  },
  {
   "cell_type": "code",
   "execution_count": null,
   "metadata": {},
   "outputs": [],
   "source": [
    "model2=ElasticNetCV(cv=kfolds)\n",
    "cv_rmse(model2)"
   ]
  },
  {
   "cell_type": "code",
   "execution_count": null,
   "metadata": {},
   "outputs": [],
   "source": [
    "model3=make_pipeline(RobustScaler(),XGBRegressor(learning_rate=0.01,n_estimators=3000))\n",
    "cv_rmse(model3)"
   ]
  },
  {
   "cell_type": "code",
   "execution_count": null,
   "metadata": {},
   "outputs": [],
   "source": [
    "model4 = GradientBoostingRegressor(n_estimators=3000, learning_rate=0.05, random_state =42)\n",
    "cv_rmse(model4)"
   ]
  },
  {
   "cell_type": "code",
   "execution_count": null,
   "metadata": {},
   "outputs": [],
   "source": [
    "model5=make_pipeline(RobustScaler(),RandomForestRegressor(n_estimators = 100))\n",
    "cv_rmse(model5)"
   ]
  },
  {
   "cell_type": "code",
   "execution_count": null,
   "metadata": {},
   "outputs": [],
   "source": [
    "stack= StackingCVRegressor(regressors=(model0,model1,model3,model4,model5),\n",
    "                                meta_regressor=model3,use_features_in_secondary=True)"
   ]
  },
  {
   "cell_type": "code",
   "execution_count": null,
   "metadata": {},
   "outputs": [],
   "source": [
    "stack.fit(np.array(X_train),np.array(y_train))"
   ]
  },
  {
   "cell_type": "code",
   "execution_count": null,
   "metadata": {},
   "outputs": [],
   "source": [
    "ridge=model0.fit(X_train,y_train)\n",
    "lasso=model1.fit(X_train,y_train)\n",
    "xgb=model3.fit(X_train,y_train)\n",
    "gradient=model4.fit(X_train,y_train)\n",
    "forest=model5.fit(X_train,y_train)"
   ]
  },
  {
   "cell_type": "code",
   "execution_count": null,
   "metadata": {},
   "outputs": [],
   "source": [
    "def blend_models(X):\n",
    "    return ((0.05 * lasso.predict(X)) + \\\n",
    "            (0.1 * ridge.predict(X)) + \\\n",
    "            (0.15 * forest.predict(X)) + \\\n",
    "            (0.2 * gradient.predict(X)) + \\\n",
    "            (0.15 * xgb.predict(X)) + \\\n",
    "            ((0.35 * stack.predict(np.array(X)))))"
   ]
  },
  {
   "cell_type": "code",
   "execution_count": null,
   "metadata": {},
   "outputs": [],
   "source": [
    "y_pred=blend_models(X_test)"
   ]
  },
  {
   "cell_type": "code",
   "execution_count": null,
   "metadata": {},
   "outputs": [],
   "source": [
    "y_sub=pd.DataFrame(y_pred)\n",
    "y_sub.to_csv('sub1.csv')"
   ]
  },
  {
   "cell_type": "code",
   "execution_count": null,
   "metadata": {},
   "outputs": [],
   "source": []
  }
 ],
 "metadata": {
  "kernelspec": {
   "display_name": "Python 3 (ipykernel)",
   "language": "python",
   "name": "python3"
  },
  "language_info": {
   "codemirror_mode": {
    "name": "ipython",
    "version": 3
   },
   "file_extension": ".py",
   "mimetype": "text/x-python",
   "name": "python",
   "nbconvert_exporter": "python",
   "pygments_lexer": "ipython3",
   "version": "3.9.7"
  }
 },
 "nbformat": 4,
 "nbformat_minor": 4
}
